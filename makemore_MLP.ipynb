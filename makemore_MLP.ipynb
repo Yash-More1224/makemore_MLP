{
 "cells": [
  {
   "cell_type": "code",
   "execution_count": null,
   "id": "dc1064af",
   "metadata": {},
   "outputs": [],
   "source": []
  }
 ],
 "metadata": {
  "language_info": {
   "name": "python"
  }
 },
 "nbformat": 4,
 "nbformat_minor": 5
}

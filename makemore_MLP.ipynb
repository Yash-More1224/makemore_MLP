{
 "cells": [
  {
   "cell_type": "code",
   "execution_count": 57,
   "id": "dc1064af",
   "metadata": {},
   "outputs": [],
   "source": [
    "import torch\n",
    "import torch.nn.functional as F\n",
    "import matplotlib.pyplot as plt\n",
    "%matplotlib inline"
   ]
  },
  {
   "cell_type": "code",
   "execution_count": 58,
   "id": "444728df",
   "metadata": {},
   "outputs": [
    {
     "data": {
      "text/plain": [
       "['emma', 'olivia', 'ava', 'isabella', 'sophia', 'charlotte', 'mia', 'amelia']"
      ]
     },
     "execution_count": 58,
     "metadata": {},
     "output_type": "execute_result"
    }
   ],
   "source": [
    "words = open(\"names.txt\", \"r\").read().splitlines()\n",
    "words[:8]"
   ]
  },
  {
   "cell_type": "code",
   "execution_count": 59,
   "id": "6e9593a0",
   "metadata": {},
   "outputs": [],
   "source": [
    "# build vocab of characters:\n",
    "chars = sorted(list(set(''.join(words))))\n",
    "\n",
    "# create mapping from int to chars and vice-versa\n",
    "stoi, itos = {}, {}\n",
    "for num, char in enumerate(chars):\n",
    "    stoi[char] = num + 1\n",
    "    itos[num+1] = char\n",
    "\n",
    "stoi['.'] = 0\n",
    "itos[0] = '.'"
   ]
  },
  {
   "cell_type": "code",
   "execution_count": 60,
   "id": "0cf67eea",
   "metadata": {},
   "outputs": [
    {
     "name": "stdout",
     "output_type": "stream",
     "text": [
      "... --> e\n",
      "..e --> m\n",
      ".em --> m\n",
      "emm --> a\n",
      "mma --> .\n",
      "... --> o\n",
      "..o --> l\n",
      ".ol --> i\n",
      "oli --> v\n",
      "liv --> i\n",
      "ivi --> a\n",
      "via --> .\n",
      "... --> a\n",
      "..a --> v\n",
      ".av --> a\n",
      "ava --> .\n",
      "... --> i\n",
      "..i --> s\n",
      ".is --> a\n",
      "isa --> b\n",
      "sab --> e\n",
      "abe --> l\n",
      "bel --> l\n",
      "ell --> a\n",
      "lla --> .\n",
      "... --> s\n",
      "..s --> o\n",
      ".so --> p\n",
      "sop --> h\n",
      "oph --> i\n",
      "phi --> a\n",
      "hia --> .\n"
     ]
    }
   ],
   "source": [
    "# build the dataset\n",
    "\n",
    "block_size = 3 # context-definition: how many prev chars to be fed to the net\n",
    "\n",
    "X, Y = [], [] # list of tensors of ints corresponding to characters \n",
    "\n",
    "\"\"\"my for loop\"\"\"\n",
    "# for word in words[:3]:\n",
    "#     for _ in range(block_size):\n",
    "#         word = '.' + word\n",
    "#     word += '.'\n",
    "#     for start_idx in range(0,len(word)-block_size):\n",
    "#         input_context = \"\"\n",
    "#         # star from start_idx and take the next \"block_size\" chars\n",
    "#         for a in range(block_size):\n",
    "#             input_context += word[start_idx + a]\n",
    "#         X.append(input_context)\n",
    "#         Y.append(word[start_idx + block_size])\n",
    "# for idx in range(len(X)):\n",
    "#     print(X[idx],\" ---> \", Y[idx])\n",
    "\n",
    "\"\"\"andrej's for loop\"\"\"\n",
    "for word in words[:5]:\n",
    "    context = [0] * block_size\n",
    "    for ch in word + '.':\n",
    "        Y.append([stoi[ch]]) # this is the label/target\n",
    "        X.append(context)\n",
    "        print(''.join(itos[i] for i in context), \"-->\", ch)\n",
    "        context = context[1:] + [stoi[ch]]\n",
    "\n",
    "X = torch.tensor(X)\n",
    "Y = torch.tensor(Y)"
   ]
  },
  {
   "cell_type": "code",
   "execution_count": 61,
   "id": "b8e97686",
   "metadata": {},
   "outputs": [],
   "source": [
    "# lets cram these 27 chars into 2 dimentional space: (this is our EMBEDDINGS)\n",
    "# (each of the 27 chars is represented by a 2-dimentional vector)\n",
    "\n",
    "# look-up table for creating embedddings:\n",
    "C = torch.randn((27, 2))"
   ]
  },
  {
   "cell_type": "code",
   "execution_count": 76,
   "id": "269e566a",
   "metadata": {},
   "outputs": [
    {
     "data": {
      "text/plain": [
       "torch.Size([32, 3, 2])"
      ]
     },
     "execution_count": 76,
     "metadata": {},
     "output_type": "execute_result"
    }
   ],
   "source": [
    "# we want embeddings for all the integers in matrix X:\n",
    "emb = C[X]\n",
    "emb.shape\n",
    "\n",
    "# emb is our 1st layer of MLP"
   ]
  },
  {
   "cell_type": "code",
   "execution_count": null,
   "id": "a12cf8e6",
   "metadata": {},
   "outputs": [
    {
     "data": {
      "text/plain": [
       "torch.Size([32, 6])"
      ]
     },
     "execution_count": 73,
     "metadata": {},
     "output_type": "execute_result"
    }
   ],
   "source": [
    "# 2nd layer (hidden)\n",
    "w1 = torch.randn((6, 100))\n",
    "b1 = torch.randn(100)\n",
    "\n",
    "# getting inputs from the 1st layer for the second layer\n",
    "# METHOD 1: (not flexible with block-size)\n",
    "\n",
    "# torch.cat([emb[:, 0, :], emb[:, 1, :], emb[:, 2, :]], 1).shape\n",
    "\n",
    "# METHOD 2:\n",
    "# we want to unbind the 1st dimention:\n",
    "ips = torch.unbind(emb, 1) # this is exactly the sequence of tensors passed in METHOD 1\n",
    "# returns a sequence \n",
    "torch.cat(ips, 1).shape"
   ]
  },
  {
   "cell_type": "code",
   "execution_count": 74,
   "id": "e70641e2",
   "metadata": {},
   "outputs": [],
   "source": [
    "# METHOD 3: (more efficient)\n",
    "\n"
   ]
  },
  {
   "cell_type": "code",
   "execution_count": null,
   "id": "0e61091c",
   "metadata": {},
   "outputs": [],
   "source": []
  }
 ],
 "metadata": {
  "kernelspec": {
   "display_name": "torch-env",
   "language": "python",
   "name": "python3"
  },
  "language_info": {
   "codemirror_mode": {
    "name": "ipython",
    "version": 3
   },
   "file_extension": ".py",
   "mimetype": "text/x-python",
   "name": "python",
   "nbconvert_exporter": "python",
   "pygments_lexer": "ipython3",
   "version": "3.10.16"
  }
 },
 "nbformat": 4,
 "nbformat_minor": 5
}

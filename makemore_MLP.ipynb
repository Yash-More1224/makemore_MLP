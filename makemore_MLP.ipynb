{
 "cells": [
  {
   "cell_type": "code",
   "execution_count": 1,
   "id": "dc1064af",
   "metadata": {},
   "outputs": [],
   "source": [
    "import torch\n",
    "import torch.nn.functional as F\n",
    "import matplotlib.pyplot as plt\n",
    "%matplotlib inline"
   ]
  },
  {
   "cell_type": "code",
   "execution_count": 2,
   "id": "444728df",
   "metadata": {},
   "outputs": [
    {
     "data": {
      "text/plain": [
       "['emma', 'olivia', 'ava', 'isabella', 'sophia', 'charlotte', 'mia', 'amelia']"
      ]
     },
     "execution_count": 2,
     "metadata": {},
     "output_type": "execute_result"
    }
   ],
   "source": [
    "words = open(\"names.txt\", \"r\").read().splitlines()\n",
    "words[:8]"
   ]
  },
  {
   "cell_type": "code",
   "execution_count": null,
   "id": "6e9593a0",
   "metadata": {},
   "outputs": [],
   "source": [
    "# build vocab of characters:\n",
    "chars = sorted(list(set(''.join(words))))\n",
    "\n",
    "# create mapping from int to chars and vice-versa\n",
    "stoi, itos = {}, {}\n",
    "for num, char in enumerate(chars):\n",
    "    stoi[char] = num + 1\n",
    "    itos[num+1] = char\n",
    "\n",
    "stoi['.'] = 0\n",
    "itos[0] = '.'"
   ]
  },
  {
   "cell_type": "code",
   "execution_count": 4,
   "id": "0cf67eea",
   "metadata": {},
   "outputs": [],
   "source": [
    "# build the dataset\n",
    "\n",
    "block_size = 3 # context-definition: how many prev chars to be fed to the net\n",
    "\n",
    "X, Y = [], [] # list of tensors of ints corresponding to characters \n",
    "\n",
    "\"\"\"my for loop\"\"\"\n",
    "# for word in words[:3]:\n",
    "#     for _ in range(block_size):\n",
    "#         word = '.' + word\n",
    "#     word += '.'\n",
    "#     for start_idx in range(0,len(word)-block_size):\n",
    "#         input_context = \"\"\n",
    "#         # star from start_idx and take the next \"block_size\" chars\n",
    "#         for a in range(block_size):\n",
    "#             input_context += word[start_idx + a]\n",
    "#         X.append(input_context)\n",
    "#         Y.append(word[start_idx + block_size])\n",
    "# for idx in range(len(X)):\n",
    "#     print(X[idx],\" ---> \", Y[idx])\n",
    "\n",
    "\"\"\"andrej's for loop\"\"\"\n",
    "for word in words:\n",
    "    context = [0] * block_size\n",
    "    for ch in word + '.':\n",
    "        Y.append([stoi[ch]]) # this is the label/target\n",
    "        X.append(context)\n",
    "        # print(''.join(itos[i] for i in context), \"-->\", ch)\n",
    "        context = context[1:] + [stoi[ch]]\n",
    "\n",
    "X = torch.tensor(X)\n",
    "Y = torch.tensor(Y)"
   ]
  },
  {
   "cell_type": "code",
   "execution_count": 5,
   "id": "b8e97686",
   "metadata": {},
   "outputs": [],
   "source": [
    "# lets cram these 27 chars into 2 dimentional space: (this is our EMBEDDINGS)\n",
    "# (each of the 27 chars is represented by a 2-dimentional vector)\n",
    "\n",
    "# look-up table for creating embedddings:\n",
    "C = torch.randn((27, 2))"
   ]
  },
  {
   "cell_type": "code",
   "execution_count": 6,
   "id": "269e566a",
   "metadata": {},
   "outputs": [
    {
     "data": {
      "text/plain": [
       "torch.Size([228146, 3, 2])"
      ]
     },
     "execution_count": 6,
     "metadata": {},
     "output_type": "execute_result"
    }
   ],
   "source": [
    "# we want embeddings for all the integers in matrix X:\n",
    "emb = C[X]\n",
    "emb.shape\n",
    "\n",
    "# emb is our 1st layer of MLP"
   ]
  },
  {
   "cell_type": "code",
   "execution_count": 7,
   "id": "a12cf8e6",
   "metadata": {},
   "outputs": [],
   "source": [
    "# 2nd layer (hidden)\n",
    "w1 = torch.randn((6, 100))\n",
    "b1 = torch.randn(100)\n",
    "\n",
    "# getting inputs from the 1st layer for the second layer\n",
    "# METHOD 1: (not flexible with block-size)\n",
    "\n",
    "# torch.cat([emb[:, 0, :], emb[:, 1, :], emb[:, 2, :]], 1).shape\n",
    "\"\"\"inefficiend, as torch.cat creates new memory\"\"\"\n",
    "\n",
    "# METHOD 2:\n",
    "# we want to unbind the 1st dimention:\n",
    "ips = torch.unbind(emb, 1) # this is exactly the sequence of tensors passed in METHOD 1\n",
    "# returns a sequence \n",
    "changed = torch.cat(ips, 1).shape"
   ]
  },
  {
   "cell_type": "code",
   "execution_count": 8,
   "id": "e70641e2",
   "metadata": {},
   "outputs": [
    {
     "data": {
      "text/plain": [
       "torch.Size([228146, 3, 2])"
      ]
     },
     "execution_count": 8,
     "metadata": {},
     "output_type": "execute_result"
    }
   ],
   "source": [
    "# METHOD 3: (more efficient)\n",
    "emb.shape\n"
   ]
  },
  {
   "cell_type": "code",
   "execution_count": 9,
   "id": "e4b9aa68",
   "metadata": {},
   "outputs": [
    {
     "data": {
      "text/plain": [
       "torch.Size([228146, 100])"
      ]
     },
     "execution_count": 9,
     "metadata": {},
     "output_type": "execute_result"
    }
   ],
   "source": [
    "h = torch.tanh(emb.view(-1, 6) @ w1 + b1) # hidden states (2nd layer)\n",
    "# w1 => (6, 100)\n",
    "h.shape"
   ]
  },
  {
   "cell_type": "code",
   "execution_count": 10,
   "id": "4b7cb25d",
   "metadata": {},
   "outputs": [
    {
     "data": {
      "text/plain": [
       "tensor([[ 0.7528, -0.1936,  0.9004,  ...,  0.9958,  0.6418,  0.7108],\n",
       "        [ 0.8455,  0.9491,  0.9660,  ...,  0.9949,  0.1586, -0.4045],\n",
       "        [ 0.1003, -0.9989, -0.9029,  ...,  0.8927,  0.9890,  0.9557],\n",
       "        ...,\n",
       "        [-0.5398, -0.3526, -0.8893,  ...,  0.8386, -0.9337, -1.0000],\n",
       "        [-0.9650, -0.9892, -0.9828,  ..., -0.9143,  0.1100, -0.9999],\n",
       "        [ 0.7725, -0.9992, -0.9624,  ...,  0.9987,  0.2231, -0.9999]])"
      ]
     },
     "execution_count": 10,
     "metadata": {},
     "output_type": "execute_result"
    }
   ],
   "source": [
    "h"
   ]
  },
  {
   "cell_type": "code",
   "execution_count": 11,
   "id": "5b24eb6d",
   "metadata": {},
   "outputs": [],
   "source": [
    "w2 = torch.randn((100, 27))\n",
    "b2 = torch.randn(27)"
   ]
  },
  {
   "cell_type": "code",
   "execution_count": 12,
   "id": "192a3dda",
   "metadata": {},
   "outputs": [],
   "source": [
    "logits = h @ w2 + b2"
   ]
  },
  {
   "cell_type": "code",
   "execution_count": 13,
   "id": "2532d2a9",
   "metadata": {},
   "outputs": [
    {
     "data": {
      "text/plain": [
       "torch.Size([228146, 27])"
      ]
     },
     "execution_count": 13,
     "metadata": {},
     "output_type": "execute_result"
    }
   ],
   "source": [
    "logits.shape"
   ]
  },
  {
   "cell_type": "code",
   "execution_count": 14,
   "id": "752009d7",
   "metadata": {},
   "outputs": [],
   "source": [
    "counts = logits.exp() # fake couns\n",
    "\n",
    "prob = counts / counts.sum(1, keepdim=True)"
   ]
  },
  {
   "cell_type": "code",
   "execution_count": 15,
   "id": "ee91c569",
   "metadata": {},
   "outputs": [
    {
     "data": {
      "text/plain": [
       "tensor(1.0000)"
      ]
     },
     "execution_count": 15,
     "metadata": {},
     "output_type": "execute_result"
    }
   ],
   "source": [
    "prob[0].sum()"
   ]
  },
  {
   "cell_type": "code",
   "execution_count": 16,
   "id": "62db2be4",
   "metadata": {},
   "outputs": [],
   "source": [
    "# plucking out the probs of the targets present in Y:\n",
    "\n",
    "loss = -prob[torch.arange(32), Y].log().mean()\n",
    "loss.requires_grad = True"
   ]
  },
  {
   "cell_type": "code",
   "execution_count": 17,
   "id": "35317773",
   "metadata": {},
   "outputs": [],
   "source": [
    "# --------------- arranged:-------------------\n",
    "g = torch.Generator().manual_seed(2147483647)\n",
    "C = torch.randn((27, 2), generator=g) # embedding/look-up table\n",
    "w1 = torch.randn((6, 100), generator=g)\n",
    "b1 = torch.randn(100, generator=g)\n",
    "w2 = torch.randn((100, 27), generator=g)\n",
    "b2 = torch.randn(27, generator=g)\n",
    "parameters = [C, w1, b1, w2, b2]"
   ]
  },
  {
   "cell_type": "code",
   "execution_count": 18,
   "id": "7b085f76",
   "metadata": {},
   "outputs": [
    {
     "data": {
      "text/plain": [
       "3481"
      ]
     },
     "execution_count": 18,
     "metadata": {},
     "output_type": "execute_result"
    }
   ],
   "source": [
    "# total number of parameters:\n",
    "sum(p.nelement() for p in parameters)"
   ]
  },
  {
   "cell_type": "code",
   "execution_count": 19,
   "id": "dd8dc678",
   "metadata": {},
   "outputs": [],
   "source": [
    "Y = Y.squeeze(1) # else gettig an error in F.cross_entropy"
   ]
  },
  {
   "cell_type": "code",
   "execution_count": 20,
   "id": "02714473",
   "metadata": {},
   "outputs": [],
   "source": [
    "for p in parameters: \n",
    "    p.requires_grad = True"
   ]
  },
  {
   "cell_type": "code",
   "execution_count": 63,
   "id": "e56fa0bb",
   "metadata": {},
   "outputs": [],
   "source": [
    "ix = torch.randint(0, X.shape[0], (32, )) # 32 is the batch size"
   ]
  },
  {
   "cell_type": "code",
   "execution_count": 65,
   "id": "e26e96d7",
   "metadata": {},
   "outputs": [
    {
     "name": "stdout",
     "output_type": "stream",
     "text": [
      "1.1950815916061401\n",
      "1.1401885747909546\n",
      "1.0870945453643799\n",
      "1.0356354713439941\n",
      "0.9856897592544556\n",
      "0.9371851682662964\n",
      "0.8901216983795166\n",
      "0.8446082472801208\n",
      "0.8009154200553894\n",
      "0.7595261335372925\n",
      "0.7211036086082458\n",
      "0.6862764954566956\n",
      "0.6553112268447876\n",
      "0.6279760599136353\n",
      "0.6037631034851074\n",
      "0.5821837186813354\n",
      "0.5628863573074341\n",
      "0.5456346273422241\n",
      "0.5302464962005615\n",
      "0.5165478587150574\n"
     ]
    }
   ],
   "source": [
    "for _ in range(20): \n",
    "    # getting embeddings for each input\n",
    "    emb = C[X[ix]] # (32, 3, 2)\n",
    "\n",
    "    # hidden layer output:\n",
    "    h =  torch.tanh(emb.view(-1, 6) @ w1 + b1) # between 0 to 1\n",
    "    # (32, 100)\n",
    "\n",
    "    logits = h @ w2 + b2 # (32, 27)\n",
    "    # counts = logits.exp()\n",
    "    # prob = counts / counts.sum(1, keepdim=True)\n",
    "    # loss = -prob[torch.arange(len(X)), Y].log().mean()\n",
    "    # loss is negative log likelihood\n",
    "\n",
    "    # more efficient way in pytorch: (used in classification problems)\n",
    "    loss = F.cross_entropy(logits, Y[ix])\n",
    "    print(loss.item())\n",
    "\n",
    "    # reasons for using F.cross_entropy: \n",
    "    # 1. forward pass and backward pass can be much more efficient \n",
    "    # 3. it subtracts largest num from logits, so that we don't get inf (while doing .exp())\n",
    "\n",
    "    # backward pass:\n",
    "    for p in parameters:\n",
    "        p.grad = None\n",
    "    loss.backward()\n",
    "\n",
    "    # update:\n",
    "    for p in parameters:\n",
    "        p.data += -0.1 * p.grad"
   ]
  },
  {
   "cell_type": "code",
   "execution_count": 26,
   "id": "abb21152",
   "metadata": {},
   "outputs": [
    {
     "data": {
      "text/plain": [
       "tensor([4, 4, 1, 0, 1, 0, 3, 3, 4, 2])"
      ]
     },
     "execution_count": 26,
     "metadata": {},
     "output_type": "execute_result"
    }
   ],
   "source": [
    "torch.randint(0, 5, (10, ))"
   ]
  },
  {
   "cell_type": "code",
   "execution_count": 31,
   "id": "9545080b",
   "metadata": {},
   "outputs": [
    {
     "data": {
      "text/plain": [
       "torch.Size([228146, 3])"
      ]
     },
     "execution_count": 31,
     "metadata": {},
     "output_type": "execute_result"
    }
   ],
   "source": [
    "X.shape"
   ]
  },
  {
   "cell_type": "code",
   "execution_count": 66,
   "id": "7e1206ca",
   "metadata": {},
   "outputs": [],
   "source": [
    "# how do we know the right learning rate"
   ]
  },
  {
   "cell_type": "code",
   "execution_count": null,
   "id": "02a19ba4",
   "metadata": {},
   "outputs": [],
   "source": []
  }
 ],
 "metadata": {
  "kernelspec": {
   "display_name": "torch-env",
   "language": "python",
   "name": "python3"
  },
  "language_info": {
   "codemirror_mode": {
    "name": "ipython",
    "version": 3
   },
   "file_extension": ".py",
   "mimetype": "text/x-python",
   "name": "python",
   "nbconvert_exporter": "python",
   "pygments_lexer": "ipython3",
   "version": "3.10.16"
  }
 },
 "nbformat": 4,
 "nbformat_minor": 5
}

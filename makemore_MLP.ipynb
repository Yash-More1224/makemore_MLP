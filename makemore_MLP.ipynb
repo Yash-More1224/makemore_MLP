{
 "cells": [
  {
   "cell_type": "code",
   "execution_count": 1,
   "id": "dc1064af",
   "metadata": {},
   "outputs": [],
   "source": [
    "import torch\n",
    "import torch.nn.functional as F\n",
    "import matplotlib.pyplot as plt\n",
    "%matplotlib inline"
   ]
  },
  {
   "cell_type": "code",
   "execution_count": 2,
   "id": "444728df",
   "metadata": {},
   "outputs": [
    {
     "data": {
      "text/plain": [
       "['emma', 'olivia', 'ava', 'isabella', 'sophia', 'charlotte', 'mia', 'amelia']"
      ]
     },
     "execution_count": 2,
     "metadata": {},
     "output_type": "execute_result"
    }
   ],
   "source": [
    "words = open(\"names.txt\", \"r\").read().splitlines()\n",
    "words[:8]"
   ]
  },
  {
   "cell_type": "code",
   "execution_count": 3,
   "id": "6e9593a0",
   "metadata": {},
   "outputs": [],
   "source": [
    "# build vocab of characters:\n",
    "chars = sorted(list(set(''.join(words))))\n",
    "\n",
    "# create mapping from int to chars and vice-versa\n",
    "stoi, itos = {}, {}\n",
    "for num, char in enumerate(chars):\n",
    "    stoi[char] = num + 1\n",
    "    itos[num+1] = char\n",
    "\n",
    "stoi['.'] = 0\n",
    "itos[0] = '.'"
   ]
  },
  {
   "cell_type": "code",
   "execution_count": 36,
   "id": "0cf67eea",
   "metadata": {},
   "outputs": [],
   "source": [
    "# build the dataset\n",
    "\n",
    "block_size = 3 # context-definition: how many prev chars to be fed to the net\n",
    "\n",
    "X, Y = [], [] # list of tensors of ints corresponding to characters \n",
    "\n",
    "\"\"\"my for loop\"\"\"\n",
    "# for word in words[:3]:\n",
    "#     for _ in range(block_size):\n",
    "#         word = '.' + word\n",
    "#     word += '.'\n",
    "#     for start_idx in range(0,len(word)-block_size):\n",
    "#         input_context = \"\"\n",
    "#         # star from start_idx and take the next \"block_size\" chars\n",
    "#         for a in range(block_size):\n",
    "#             input_context += word[start_idx + a]\n",
    "#         X.append(input_context)\n",
    "#         Y.append(word[start_idx + block_size])\n",
    "# for idx in range(len(X)):\n",
    "#     print(X[idx],\" ---> \", Y[idx])\n",
    "\n",
    "\"\"\"andrej's for loop\"\"\"\n",
    "for word in words:\n",
    "    context = [0] * block_size\n",
    "    for ch in word + '.':\n",
    "        Y.append([stoi[ch]]) # this is the label/target\n",
    "        X.append(context)\n",
    "        # print(''.join(itos[i] for i in context), \"-->\", ch)\n",
    "        context = context[1:] + [stoi[ch]]\n",
    "\n",
    "X = torch.tensor(X)\n",
    "Y = torch.tensor(Y)"
   ]
  },
  {
   "cell_type": "code",
   "execution_count": 37,
   "id": "b8e97686",
   "metadata": {},
   "outputs": [],
   "source": [
    "# lets cram these 27 chars into 2 dimentional space: (this is our EMBEDDINGS)\n",
    "# (each of the 27 chars is represented by a 2-dimentional vector)\n",
    "\n",
    "# look-up table for creating embedddings:\n",
    "C = torch.randn((27, 2))"
   ]
  },
  {
   "cell_type": "code",
   "execution_count": 38,
   "id": "269e566a",
   "metadata": {},
   "outputs": [
    {
     "data": {
      "text/plain": [
       "torch.Size([228146, 3, 2])"
      ]
     },
     "execution_count": 38,
     "metadata": {},
     "output_type": "execute_result"
    }
   ],
   "source": [
    "# we want embeddings for all the integers in matrix X:\n",
    "emb = C[X]\n",
    "emb.shape\n",
    "\n",
    "# emb is our 1st layer of MLP"
   ]
  },
  {
   "cell_type": "code",
   "execution_count": 7,
   "id": "a12cf8e6",
   "metadata": {},
   "outputs": [],
   "source": [
    "# 2nd layer (hidden)\n",
    "w1 = torch.randn((6, 100))\n",
    "b1 = torch.randn(100)\n",
    "\n",
    "# getting inputs from the 1st layer for the second layer\n",
    "# METHOD 1: (not flexible with block-size)\n",
    "\n",
    "# torch.cat([emb[:, 0, :], emb[:, 1, :], emb[:, 2, :]], 1).shape\n",
    "\"\"\"inefficiend, as torch.cat creates new memory\"\"\"\n",
    "\n",
    "# METHOD 2:\n",
    "# we want to unbind the 1st dimention:\n",
    "ips = torch.unbind(emb, 1) # this is exactly the sequence of tensors passed in METHOD 1\n",
    "# returns a sequence \n",
    "changed = torch.cat(ips, 1).shape"
   ]
  },
  {
   "cell_type": "code",
   "execution_count": 39,
   "id": "e70641e2",
   "metadata": {},
   "outputs": [
    {
     "data": {
      "text/plain": [
       "torch.Size([228146, 3, 2])"
      ]
     },
     "execution_count": 39,
     "metadata": {},
     "output_type": "execute_result"
    }
   ],
   "source": [
    "# METHOD 3: (more efficient)\n",
    "emb.shape\n"
   ]
  },
  {
   "cell_type": "code",
   "execution_count": 9,
   "id": "e4b9aa68",
   "metadata": {},
   "outputs": [
    {
     "data": {
      "text/plain": [
       "torch.Size([32, 100])"
      ]
     },
     "execution_count": 9,
     "metadata": {},
     "output_type": "execute_result"
    }
   ],
   "source": [
    "h = torch.tanh(emb.view(-1, 6) @ w1 + b1) # hidden states (2nd layer)\n",
    "# w1 => (6, 100)\n",
    "h.shape"
   ]
  },
  {
   "cell_type": "code",
   "execution_count": 10,
   "id": "4b7cb25d",
   "metadata": {},
   "outputs": [
    {
     "data": {
      "text/plain": [
       "tensor([[ 0.7563, -0.8238, -0.6941,  ...,  0.8139,  0.9687,  0.1659],\n",
       "        [ 0.9473, -0.9942, -0.7948,  ...,  0.3868,  0.9993,  0.7937],\n",
       "        [ 0.2126, -0.9987,  0.3770,  ...,  0.9963,  1.0000,  0.9477],\n",
       "        ...,\n",
       "        [-0.1014, -0.9972,  0.9949,  ...,  0.9885,  0.9121,  0.7394],\n",
       "        [ 0.9788,  0.8237, -0.7886,  ..., -0.7689,  0.9999,  0.8654],\n",
       "        [-0.0976, -0.9372, -0.8782,  ...,  0.3995,  0.9751,  1.0000]])"
      ]
     },
     "execution_count": 10,
     "metadata": {},
     "output_type": "execute_result"
    }
   ],
   "source": [
    "h"
   ]
  },
  {
   "cell_type": "code",
   "execution_count": 11,
   "id": "5b24eb6d",
   "metadata": {},
   "outputs": [],
   "source": [
    "w2 = torch.randn((100, 27))\n",
    "b2 = torch.randn(27)"
   ]
  },
  {
   "cell_type": "code",
   "execution_count": 12,
   "id": "192a3dda",
   "metadata": {},
   "outputs": [],
   "source": [
    "logits = h @ w2 + b2"
   ]
  },
  {
   "cell_type": "code",
   "execution_count": 13,
   "id": "2532d2a9",
   "metadata": {},
   "outputs": [
    {
     "data": {
      "text/plain": [
       "torch.Size([32, 27])"
      ]
     },
     "execution_count": 13,
     "metadata": {},
     "output_type": "execute_result"
    }
   ],
   "source": [
    "logits.shape"
   ]
  },
  {
   "cell_type": "code",
   "execution_count": 14,
   "id": "752009d7",
   "metadata": {},
   "outputs": [],
   "source": [
    "counts = logits.exp() # fake couns\n",
    "\n",
    "prob = counts / counts.sum(1, keepdim=True)"
   ]
  },
  {
   "cell_type": "code",
   "execution_count": 15,
   "id": "ee91c569",
   "metadata": {},
   "outputs": [
    {
     "data": {
      "text/plain": [
       "tensor(1.)"
      ]
     },
     "execution_count": 15,
     "metadata": {},
     "output_type": "execute_result"
    }
   ],
   "source": [
    "prob[0].sum()"
   ]
  },
  {
   "cell_type": "code",
   "execution_count": 16,
   "id": "62db2be4",
   "metadata": {},
   "outputs": [],
   "source": [
    "# plucking out the probs of the targets present in Y:\n",
    "\n",
    "loss = -prob[torch.arange(32), Y].log().mean()\n",
    "loss.requires_grad = True"
   ]
  },
  {
   "cell_type": "code",
   "execution_count": 40,
   "id": "35317773",
   "metadata": {},
   "outputs": [],
   "source": [
    "# --------------- arranged:-------------------\n",
    "g = torch.Generator().manual_seed(2147483647)\n",
    "C = torch.randn((27, 2), generator=g) # embedding/look-up table\n",
    "w1 = torch.randn((6, 100), generator=g)\n",
    "b1 = torch.randn(100, generator=g)\n",
    "w2 = torch.randn((100, 27), generator=g)\n",
    "b2 = torch.randn(27, generator=g)\n",
    "parameters = [C, w1, b1, w2, b2]"
   ]
  },
  {
   "cell_type": "code",
   "execution_count": 41,
   "id": "7b085f76",
   "metadata": {},
   "outputs": [
    {
     "data": {
      "text/plain": [
       "3481"
      ]
     },
     "execution_count": 41,
     "metadata": {},
     "output_type": "execute_result"
    }
   ],
   "source": [
    "# total number of parameters:\n",
    "sum(p.nelement() for p in parameters)"
   ]
  },
  {
   "cell_type": "code",
   "execution_count": 42,
   "id": "dd8dc678",
   "metadata": {},
   "outputs": [],
   "source": [
    "Y = Y.squeeze(1) # else gettig an error in F.cross_entropy"
   ]
  },
  {
   "cell_type": "code",
   "execution_count": 43,
   "id": "02714473",
   "metadata": {},
   "outputs": [],
   "source": [
    "for p in parameters: \n",
    "    p.requires_grad = True"
   ]
  },
  {
   "cell_type": "code",
   "execution_count": 46,
   "id": "e26e96d7",
   "metadata": {},
   "outputs": [
    {
     "name": "stdout",
     "output_type": "stream",
     "text": [
      "8.33366584777832\n",
      "8.147385597229004\n",
      "7.968584060668945\n",
      "7.797062397003174\n",
      "7.63268518447876\n",
      "7.475356578826904\n",
      "7.324982166290283\n",
      "7.181427478790283\n",
      "7.044488906860352\n",
      "6.913883686065674\n",
      "6.789266586303711\n",
      "6.670251369476318\n",
      "6.556445598602295\n",
      "6.447472095489502\n",
      "6.342978477478027\n",
      "6.242645740509033\n",
      "6.1461873054504395\n",
      "6.053345203399658\n",
      "5.96389102935791\n",
      "5.87762451171875\n"
     ]
    }
   ],
   "source": [
    "for _ in range(20): \n",
    "    # getting embeddings for each input\n",
    "    emb = C[X] # (32, 3, 2)\n",
    "\n",
    "    # hidden layer output:\n",
    "    h =  torch.tanh(emb.view(-1, 6) @ w1 + b1) # between 0 to 1\n",
    "    # (32, 100)\n",
    "\n",
    "    logits = h @ w2 + b2 # (32, 27)\n",
    "    # counts = logits.exp()\n",
    "    # prob = counts / counts.sum(1, keepdim=True)\n",
    "    # loss = -prob[torch.arange(len(X)), Y].log().mean()\n",
    "    # loss is negative log likelihood\n",
    "\n",
    "    # more efficient way in pytorch: (used in classification problems)\n",
    "    loss = F.cross_entropy(logits, Y)\n",
    "    print(loss.item())\n",
    "\n",
    "    # reasons for using F.cross_entropy: \n",
    "    # 1. forward pass and backward pass can be much more efficient \n",
    "    # 3. it subtracts largest num from logits, so that we don't get inf (while doing .exp())\n",
    "\n",
    "    # backward pass:\n",
    "    for p in parameters:\n",
    "        p.grad = None\n",
    "    loss.backward()\n",
    "\n",
    "    # update:\n",
    "    for p in parameters:\n",
    "        p.data += -0.1 * p.grad"
   ]
  },
  {
   "cell_type": "code",
   "execution_count": null,
   "id": "abb21152",
   "metadata": {},
   "outputs": [],
   "source": []
  }
 ],
 "metadata": {
  "kernelspec": {
   "display_name": "torch-env",
   "language": "python",
   "name": "python3"
  },
  "language_info": {
   "codemirror_mode": {
    "name": "ipython",
    "version": 3
   },
   "file_extension": ".py",
   "mimetype": "text/x-python",
   "name": "python",
   "nbconvert_exporter": "python",
   "pygments_lexer": "ipython3",
   "version": "3.10.16"
  }
 },
 "nbformat": 4,
 "nbformat_minor": 5
}
